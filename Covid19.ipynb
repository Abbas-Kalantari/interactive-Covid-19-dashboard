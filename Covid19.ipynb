{
  "nbformat": 4,
  "nbformat_minor": 0,
  "metadata": {
    "colab": {
      "name": "Covid19.ipynb",
      "provenance": [],
      "authorship_tag": "ABX9TyN1kpoolEnFou5s/06uCwVm",
      "include_colab_link": true
    },
    "kernelspec": {
      "name": "python3",
      "display_name": "Python 3",
      "language": "python"
    },
    "language_info": {
      "name": "python",
      "version": "3.9.5"
    }
  },
  "cells": [
    {
      "cell_type": "markdown",
      "metadata": {
        "id": "view-in-github",
        "colab_type": "text"
      },
      "source": [
        "<a href=\"https://colab.research.google.com/github/Abbas-Kalantari/interactive-Covid-19-dashboard/blob/master/Covid19.ipynb\" target=\"_parent\"><img src=\"https://colab.research.google.com/assets/colab-badge.svg\" alt=\"Open In Colab\"/></a>"
      ]
    },
    {
      "source": [
        "### Let's import the necessary libraries"
      ],
      "cell_type": "markdown",
      "metadata": {}
    },
    {
      "cell_type": "code",
      "metadata": {
        "id": "OHMfDiJHBgEz"
      },
      "source": [
        "import pandas as pd \n",
        "import numpy as np \n",
        "import glob"
      ],
      "execution_count": 3,
      "outputs": []
    },
    {
      "cell_type": "code",
      "execution_count": 4,
      "metadata": {},
      "outputs": [],
      "source": [
        "files = glob.glob(\"csse_covid_19_daily_reports/*.csv\")\n",
        "\n",
        "df = pd.DataFrame()\n",
        "for f in files:\n",
        "    csv = pd.read_csv(f)\n",
        "    df = df.append(csv)"
      ]
    },
    {
      "cell_type": "code",
      "execution_count": 5,
      "metadata": {},
      "outputs": [
        {
          "output_type": "execute_result",
          "data": {
            "text/plain": [
              "   FIPS Admin2 Province_State Country_Region          Last_Update       Lat  \\\n",
              "0   NaN    NaN            NaN    Afghanistan  2020-09-10 04:29:01  33.93911   \n",
              "1   NaN    NaN            NaN        Albania  2020-09-10 04:29:01  41.15330   \n",
              "2   NaN    NaN            NaN        Algeria  2020-09-10 04:29:01  28.03390   \n",
              "3   NaN    NaN            NaN        Andorra  2020-09-10 04:29:01  42.50630   \n",
              "4   NaN    NaN            NaN         Angola  2020-09-10 04:29:01 -11.20270   \n",
              "\n",
              "       Long_  Confirmed  Deaths  Recovered  ...  Combined_Key Incidence_Rate  \\\n",
              "0  67.709953    38544.0  1421.0    31048.0  ...   Afghanistan      99.012696   \n",
              "1  20.168300    10704.0   322.0     6284.0  ...       Albania     371.950796   \n",
              "2   1.659600    47216.0  1581.0    33379.0  ...       Algeria     107.673608   \n",
              "3   1.521800     1301.0    53.0      938.0  ...       Andorra    1683.815440   \n",
              "4  17.873900     3092.0   126.0     1245.0  ...        Angola       9.407822   \n",
              "\n",
              "   Case-Fatality_Ratio  Province/State Country/Region Last Update Latitude  \\\n",
              "0             3.684101             NaN            NaN         NaN      NaN   \n",
              "1             3.008221             NaN            NaN         NaN      NaN   \n",
              "2             3.348441             NaN            NaN         NaN      NaN   \n",
              "3             4.073789             NaN            NaN         NaN      NaN   \n",
              "4             4.075032             NaN            NaN         NaN      NaN   \n",
              "\n",
              "   Longitude  Incident_Rate  Case_Fatality_Ratio  \n",
              "0        NaN            NaN                  NaN  \n",
              "1        NaN            NaN                  NaN  \n",
              "2        NaN            NaN                  NaN  \n",
              "3        NaN            NaN                  NaN  \n",
              "4        NaN            NaN                  NaN  \n",
              "\n",
              "[5 rows x 21 columns]"
            ],
            "text/html": "<div>\n<style scoped>\n    .dataframe tbody tr th:only-of-type {\n        vertical-align: middle;\n    }\n\n    .dataframe tbody tr th {\n        vertical-align: top;\n    }\n\n    .dataframe thead th {\n        text-align: right;\n    }\n</style>\n<table border=\"1\" class=\"dataframe\">\n  <thead>\n    <tr style=\"text-align: right;\">\n      <th></th>\n      <th>FIPS</th>\n      <th>Admin2</th>\n      <th>Province_State</th>\n      <th>Country_Region</th>\n      <th>Last_Update</th>\n      <th>Lat</th>\n      <th>Long_</th>\n      <th>Confirmed</th>\n      <th>Deaths</th>\n      <th>Recovered</th>\n      <th>...</th>\n      <th>Combined_Key</th>\n      <th>Incidence_Rate</th>\n      <th>Case-Fatality_Ratio</th>\n      <th>Province/State</th>\n      <th>Country/Region</th>\n      <th>Last Update</th>\n      <th>Latitude</th>\n      <th>Longitude</th>\n      <th>Incident_Rate</th>\n      <th>Case_Fatality_Ratio</th>\n    </tr>\n  </thead>\n  <tbody>\n    <tr>\n      <th>0</th>\n      <td>NaN</td>\n      <td>NaN</td>\n      <td>NaN</td>\n      <td>Afghanistan</td>\n      <td>2020-09-10 04:29:01</td>\n      <td>33.93911</td>\n      <td>67.709953</td>\n      <td>38544.0</td>\n      <td>1421.0</td>\n      <td>31048.0</td>\n      <td>...</td>\n      <td>Afghanistan</td>\n      <td>99.012696</td>\n      <td>3.684101</td>\n      <td>NaN</td>\n      <td>NaN</td>\n      <td>NaN</td>\n      <td>NaN</td>\n      <td>NaN</td>\n      <td>NaN</td>\n      <td>NaN</td>\n    </tr>\n    <tr>\n      <th>1</th>\n      <td>NaN</td>\n      <td>NaN</td>\n      <td>NaN</td>\n      <td>Albania</td>\n      <td>2020-09-10 04:29:01</td>\n      <td>41.15330</td>\n      <td>20.168300</td>\n      <td>10704.0</td>\n      <td>322.0</td>\n      <td>6284.0</td>\n      <td>...</td>\n      <td>Albania</td>\n      <td>371.950796</td>\n      <td>3.008221</td>\n      <td>NaN</td>\n      <td>NaN</td>\n      <td>NaN</td>\n      <td>NaN</td>\n      <td>NaN</td>\n      <td>NaN</td>\n      <td>NaN</td>\n    </tr>\n    <tr>\n      <th>2</th>\n      <td>NaN</td>\n      <td>NaN</td>\n      <td>NaN</td>\n      <td>Algeria</td>\n      <td>2020-09-10 04:29:01</td>\n      <td>28.03390</td>\n      <td>1.659600</td>\n      <td>47216.0</td>\n      <td>1581.0</td>\n      <td>33379.0</td>\n      <td>...</td>\n      <td>Algeria</td>\n      <td>107.673608</td>\n      <td>3.348441</td>\n      <td>NaN</td>\n      <td>NaN</td>\n      <td>NaN</td>\n      <td>NaN</td>\n      <td>NaN</td>\n      <td>NaN</td>\n      <td>NaN</td>\n    </tr>\n    <tr>\n      <th>3</th>\n      <td>NaN</td>\n      <td>NaN</td>\n      <td>NaN</td>\n      <td>Andorra</td>\n      <td>2020-09-10 04:29:01</td>\n      <td>42.50630</td>\n      <td>1.521800</td>\n      <td>1301.0</td>\n      <td>53.0</td>\n      <td>938.0</td>\n      <td>...</td>\n      <td>Andorra</td>\n      <td>1683.815440</td>\n      <td>4.073789</td>\n      <td>NaN</td>\n      <td>NaN</td>\n      <td>NaN</td>\n      <td>NaN</td>\n      <td>NaN</td>\n      <td>NaN</td>\n      <td>NaN</td>\n    </tr>\n    <tr>\n      <th>4</th>\n      <td>NaN</td>\n      <td>NaN</td>\n      <td>NaN</td>\n      <td>Angola</td>\n      <td>2020-09-10 04:29:01</td>\n      <td>-11.20270</td>\n      <td>17.873900</td>\n      <td>3092.0</td>\n      <td>126.0</td>\n      <td>1245.0</td>\n      <td>...</td>\n      <td>Angola</td>\n      <td>9.407822</td>\n      <td>4.075032</td>\n      <td>NaN</td>\n      <td>NaN</td>\n      <td>NaN</td>\n      <td>NaN</td>\n      <td>NaN</td>\n      <td>NaN</td>\n      <td>NaN</td>\n    </tr>\n  </tbody>\n</table>\n<p>5 rows × 21 columns</p>\n</div>"
          },
          "metadata": {},
          "execution_count": 5
        }
      ],
      "source": [
        "df.head()"
      ]
    },
    {
      "cell_type": "code",
      "execution_count": null,
      "metadata": {},
      "outputs": [],
      "source": []
    }
  ]
}
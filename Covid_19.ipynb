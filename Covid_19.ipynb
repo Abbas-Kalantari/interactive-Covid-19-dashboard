{
 "cells": [
  {
   "cell_type": "markdown",
   "source": "# Prediction Covid_19 Daily Reports\n## Table of Contents\n<ul>\n<li><a href=\"#intro\">Introduction</a></li>\n<li><a href=\"#wrangling\">Data Wrangling</a></li>\n<li><a href=\"#eda\">Exploratory Data Analysis</a></li>\n<li><a href=\"#ml\">Applying ML Algorithms</a></li>\n<li><a href=\"#conclusion\">Conclusion</a></li>\n\n\n</ul>",
   "metadata": {
    "tags": [],
    "cell_id": "00000-5b9c4d35-5d50-4298-8d23-399897f0ca6f",
    "deepnote_cell_type": "markdown"
   }
  },
  {
   "cell_type": "markdown",
   "source": "",
   "metadata": {
    "tags": [],
    "cell_id": "00000-9df0888f-b41c-4c6a-ad14-7cf7abed8c30",
    "deepnote_cell_type": "markdown"
   }
  },
  {
   "cell_type": "code",
   "metadata": {
    "tags": [],
    "cell_id": "00002-74a5087e-ab80-4654-83e3-2498fbea1370",
    "deepnote_to_be_reexecuted": false,
    "source_hash": "d08b932a",
    "execution_start": 1621603458427,
    "execution_millis": 3685,
    "deepnote_cell_type": "code"
   },
   "source": "!pip install missingno==0.4.2",
   "outputs": [
    {
     "name": "stdout",
     "text": "Collecting missingno==0.4.2\n  Downloading missingno-0.4.2-py3-none-any.whl (9.7 kB)\nRequirement already satisfied: seaborn in /shared-libs/python3.7/py/lib/python3.7/site-packages (from missingno==0.4.2) (0.11.1)\nRequirement already satisfied: numpy in /shared-libs/python3.7/py/lib/python3.7/site-packages (from missingno==0.4.2) (1.19.5)\nRequirement already satisfied: scipy in /shared-libs/python3.7/py/lib/python3.7/site-packages (from missingno==0.4.2) (1.6.3)\nRequirement already satisfied: matplotlib in /shared-libs/python3.7/py/lib/python3.7/site-packages (from missingno==0.4.2) (3.4.1)\nRequirement already satisfied: pyparsing>=2.2.1 in /shared-libs/python3.7/py-core/lib/python3.7/site-packages (from matplotlib->missingno==0.4.2) (2.4.7)\nRequirement already satisfied: python-dateutil>=2.7 in /shared-libs/python3.7/py-core/lib/python3.7/site-packages (from matplotlib->missingno==0.4.2) (2.8.1)\nRequirement already satisfied: cycler>=0.10 in /shared-libs/python3.7/py/lib/python3.7/site-packages (from matplotlib->missingno==0.4.2) (0.10.0)\nRequirement already satisfied: kiwisolver>=1.0.1 in /shared-libs/python3.7/py/lib/python3.7/site-packages (from matplotlib->missingno==0.4.2) (1.3.1)\nRequirement already satisfied: pillow>=6.2.0 in /shared-libs/python3.7/py/lib/python3.7/site-packages (from matplotlib->missingno==0.4.2) (8.2.0)\nRequirement already satisfied: six in /shared-libs/python3.7/py-core/lib/python3.7/site-packages (from cycler>=0.10->matplotlib->missingno==0.4.2) (1.16.0)\nRequirement already satisfied: pandas>=0.23 in /shared-libs/python3.7/py/lib/python3.7/site-packages (from seaborn->missingno==0.4.2) (1.2.4)\nRequirement already satisfied: pytz>=2017.3 in /shared-libs/python3.7/py/lib/python3.7/site-packages (from pandas>=0.23->seaborn->missingno==0.4.2) (2021.1)\nInstalling collected packages: missingno\nSuccessfully installed missingno-0.4.2\n",
     "output_type": "stream"
    }
   ],
   "execution_count": null
  },
  {
   "cell_type": "code",
   "source": "!pip install missingno==0.4.2",
   "metadata": {
    "tags": [],
    "cell_id": "00003-84ee2811-79a6-4b6c-9e79-2ca3626413b4",
    "deepnote_to_be_reexecuted": false,
    "source_hash": "d08b932a",
    "execution_start": 1621605595359,
    "execution_millis": 3439,
    "deepnote_cell_type": "code"
   },
   "outputs": [
    {
     "name": "stdout",
     "text": "Collecting missingno==0.4.2\n  Downloading missingno-0.4.2-py3-none-any.whl (9.7 kB)\nRequirement already satisfied: numpy in /shared-libs/python3.7/py/lib/python3.7/site-packages (from missingno==0.4.2) (1.19.5)\nRequirement already satisfied: seaborn in /shared-libs/python3.7/py/lib/python3.7/site-packages (from missingno==0.4.2) (0.11.1)\nRequirement already satisfied: matplotlib in /shared-libs/python3.7/py/lib/python3.7/site-packages (from missingno==0.4.2) (3.4.1)\nRequirement already satisfied: scipy in /shared-libs/python3.7/py/lib/python3.7/site-packages (from missingno==0.4.2) (1.6.3)\nRequirement already satisfied: cycler>=0.10 in /shared-libs/python3.7/py/lib/python3.7/site-packages (from matplotlib->missingno==0.4.2) (0.10.0)\nRequirement already satisfied: kiwisolver>=1.0.1 in /shared-libs/python3.7/py/lib/python3.7/site-packages (from matplotlib->missingno==0.4.2) (1.3.1)\nRequirement already satisfied: python-dateutil>=2.7 in /shared-libs/python3.7/py-core/lib/python3.7/site-packages (from matplotlib->missingno==0.4.2) (2.8.1)\nRequirement already satisfied: pillow>=6.2.0 in /shared-libs/python3.7/py/lib/python3.7/site-packages (from matplotlib->missingno==0.4.2) (8.2.0)\nRequirement already satisfied: pyparsing>=2.2.1 in /shared-libs/python3.7/py-core/lib/python3.7/site-packages (from matplotlib->missingno==0.4.2) (2.4.7)\nRequirement already satisfied: six in /shared-libs/python3.7/py-core/lib/python3.7/site-packages (from cycler>=0.10->matplotlib->missingno==0.4.2) (1.16.0)\nRequirement already satisfied: pandas>=0.23 in /shared-libs/python3.7/py/lib/python3.7/site-packages (from seaborn->missingno==0.4.2) (1.2.4)\nRequirement already satisfied: pytz>=2017.3 in /shared-libs/python3.7/py/lib/python3.7/site-packages (from pandas>=0.23->seaborn->missingno==0.4.2) (2021.1)\nInstalling collected packages: missingno\nSuccessfully installed missingno-0.4.2\n",
     "output_type": "stream"
    }
   ],
   "execution_count": 3
  },
  {
   "cell_type": "code",
   "source": "!pip install missingno==0.4.2",
   "metadata": {
    "tags": [],
    "cell_id": "00004-8ff297aa-66b1-4a8c-ad23-811672bbc5c7",
    "deepnote_to_be_reexecuted": false,
    "source_hash": "d08b932a",
    "execution_start": 1621605601350,
    "execution_millis": 4669,
    "deepnote_cell_type": "code"
   },
   "outputs": [
    {
     "name": "stdout",
     "text": "Requirement already satisfied: missingno==0.4.2 in /root/venv/lib/python3.7/site-packages (0.4.2)\nRequirement already satisfied: seaborn in /shared-libs/python3.7/py/lib/python3.7/site-packages (from missingno==0.4.2) (0.11.1)\nRequirement already satisfied: scipy in /shared-libs/python3.7/py/lib/python3.7/site-packages (from missingno==0.4.2) (1.6.3)\nRequirement already satisfied: numpy in /shared-libs/python3.7/py/lib/python3.7/site-packages (from missingno==0.4.2) (1.19.5)\nRequirement already satisfied: matplotlib in /shared-libs/python3.7/py/lib/python3.7/site-packages (from missingno==0.4.2) (3.4.1)\nRequirement already satisfied: kiwisolver>=1.0.1 in /shared-libs/python3.7/py/lib/python3.7/site-packages (from matplotlib->missingno==0.4.2) (1.3.1)\nRequirement already satisfied: python-dateutil>=2.7 in /shared-libs/python3.7/py-core/lib/python3.7/site-packages (from matplotlib->missingno==0.4.2) (2.8.1)\nRequirement already satisfied: pillow>=6.2.0 in /shared-libs/python3.7/py/lib/python3.7/site-packages (from matplotlib->missingno==0.4.2) (8.2.0)\nRequirement already satisfied: cycler>=0.10 in /shared-libs/python3.7/py/lib/python3.7/site-packages (from matplotlib->missingno==0.4.2) (0.10.0)\nRequirement already satisfied: pyparsing>=2.2.1 in /shared-libs/python3.7/py-core/lib/python3.7/site-packages (from matplotlib->missingno==0.4.2) (2.4.7)\nRequirement already satisfied: six in /shared-libs/python3.7/py-core/lib/python3.7/site-packages (from cycler>=0.10->matplotlib->missingno==0.4.2) (1.16.0)\nRequirement already satisfied: pandas>=0.23 in /shared-libs/python3.7/py/lib/python3.7/site-packages (from seaborn->missingno==0.4.2) (1.2.4)\nRequirement already satisfied: pytz>=2017.3 in /shared-libs/python3.7/py/lib/python3.7/site-packages (from pandas>=0.23->seaborn->missingno==0.4.2) (2021.1)\n",
     "output_type": "stream"
    }
   ],
   "execution_count": 4
  },
  {
   "cell_type": "code",
   "metadata": {
    "tags": [],
    "cell_id": "00002-119c7bd3-9a1f-44fb-9fe9-b31be276ae7d",
    "deepnote_to_be_reexecuted": false,
    "source_hash": "e2717d2e",
    "execution_start": 1621605606941,
    "execution_millis": 7,
    "deepnote_cell_type": "code"
   },
   "source": "# Import Libraries\n\nimport numpy as np\nimport pandas as pd\nimport seaborn as sns\nfrom matplotlib import pyplot as plt\nimport missingno as msno\nimport math\nimport random\nimport glob",
   "execution_count": 5,
   "outputs": []
  },
  {
   "cell_type": "markdown",
   "source": "<a id='wrangling'></a>\n## Data Wrangling",
   "metadata": {
    "tags": [],
    "cell_id": "00004-f3cda35d-2779-4c04-84fe-ade69a5c2954",
    "deepnote_cell_type": "markdown"
   }
  },
  {
   "cell_type": "code",
   "source": "# Upload Data\nfirst_csv = pd.read_csv('12-30-2020.csv',sep=\",\")\nsecond_csv = pd.read_csv(\"12-31-2020.csv\" , sep=\",\")\n",
   "metadata": {
    "tags": [],
    "cell_id": "00005-8aac5177-b9ef-4194-875a-bafe51acf37f",
    "deepnote_to_be_reexecuted": false,
    "source_hash": "bb3427cd",
    "execution_start": 1621605610808,
    "execution_millis": 50,
    "deepnote_cell_type": "code"
   },
   "outputs": [],
   "execution_count": 6
  },
  {
   "cell_type": "code",
   "source": "first_csv.head()",
   "metadata": {
    "tags": [],
    "cell_id": "00006-9fec4d98-11dc-4e89-b16e-f26032b8f80d",
    "deepnote_to_be_reexecuted": false,
    "source_hash": "a2134faa",
    "execution_start": 1621605611484,
    "execution_millis": 59,
    "deepnote_cell_type": "code"
   },
   "outputs": [
    {
     "output_type": "execute_result",
     "execution_count": 7,
     "data": {
      "application/vnd.deepnote.dataframe.v2+json": {
       "row_count": 5,
       "column_count": 14,
       "columns": [
        {
         "name": "FIPS",
         "dtype": "float64",
         "stats": {
          "unique_count": 0,
          "nan_count": 5,
          "min": null,
          "max": null,
          "histogram": [
           {
            "bin_start": 0,
            "bin_end": 0.1,
            "count": 0
           },
           {
            "bin_start": 0.1,
            "bin_end": 0.2,
            "count": 0
           },
           {
            "bin_start": 0.2,
            "bin_end": 0.30000000000000004,
            "count": 0
           },
           {
            "bin_start": 0.30000000000000004,
            "bin_end": 0.4,
            "count": 0
           },
           {
            "bin_start": 0.4,
            "bin_end": 0.5,
            "count": 0
           },
           {
            "bin_start": 0.5,
            "bin_end": 0.6000000000000001,
            "count": 0
           },
           {
            "bin_start": 0.6000000000000001,
            "bin_end": 0.7000000000000001,
            "count": 0
           },
           {
            "bin_start": 0.7000000000000001,
            "bin_end": 0.8,
            "count": 0
           },
           {
            "bin_start": 0.8,
            "bin_end": 0.9,
            "count": 0
           },
           {
            "bin_start": 0.9,
            "bin_end": 1,
            "count": 0
           }
          ]
         }
        },
        {
         "name": "Admin2",
         "dtype": "object",
         "stats": {
          "unique_count": 0,
          "nan_count": 5,
          "categories": [
           {
            "name": "Missing",
            "count": 5
           }
          ]
         }
        },
        {
         "name": "Province_State",
         "dtype": "object",
         "stats": {
          "unique_count": 0,
          "nan_count": 5,
          "categories": [
           {
            "name": "Missing",
            "count": 5
           }
          ]
         }
        },
        {
         "name": "Country_Region",
         "dtype": "object",
         "stats": {
          "unique_count": 5,
          "nan_count": 0,
          "categories": [
           {
            "name": "Afghanistan",
            "count": 1
           },
           {
            "name": "Albania",
            "count": 1
           },
           {
            "name": "3 others",
            "count": 3
           }
          ]
         }
        },
        {
         "name": "Last_Update",
         "dtype": "object",
         "stats": {
          "unique_count": 1,
          "nan_count": 0,
          "categories": [
           {
            "name": "2020-12-31 05:22:49",
            "count": 5
           }
          ]
         }
        },
        {
         "name": "Lat",
         "dtype": "float64",
         "stats": {
          "unique_count": 5,
          "nan_count": 0,
          "min": "-11.2027",
          "max": "42.5063",
          "histogram": [
           {
            "bin_start": -11.2027,
            "bin_end": -5.831799999999999,
            "count": 1
           },
           {
            "bin_start": -5.831799999999999,
            "bin_end": -0.46089999999999876,
            "count": 0
           },
           {
            "bin_start": -0.46089999999999876,
            "bin_end": 4.910000000000004,
            "count": 0
           },
           {
            "bin_start": 4.910000000000004,
            "bin_end": 10.280900000000003,
            "count": 0
           },
           {
            "bin_start": 10.280900000000003,
            "bin_end": 15.651800000000001,
            "count": 0
           },
           {
            "bin_start": 15.651800000000001,
            "bin_end": 21.022700000000007,
            "count": 0
           },
           {
            "bin_start": 21.022700000000007,
            "bin_end": 26.393600000000006,
            "count": 0
           },
           {
            "bin_start": 26.393600000000006,
            "bin_end": 31.764500000000005,
            "count": 1
           },
           {
            "bin_start": 31.764500000000005,
            "bin_end": 37.135400000000004,
            "count": 1
           },
           {
            "bin_start": 37.135400000000004,
            "bin_end": 42.5063,
            "count": 2
           }
          ]
         }
        },
        {
         "name": "Long_",
         "dtype": "float64",
         "stats": {
          "unique_count": 5,
          "nan_count": 0,
          "min": "1.5218",
          "max": "67.709953",
          "histogram": [
           {
            "bin_start": 1.5218,
            "bin_end": 8.1406153,
            "count": 2
           },
           {
            "bin_start": 8.1406153,
            "bin_end": 14.7594306,
            "count": 0
           },
           {
            "bin_start": 14.7594306,
            "bin_end": 21.378245899999996,
            "count": 2
           },
           {
            "bin_start": 21.378245899999996,
            "bin_end": 27.997061199999997,
            "count": 0
           },
           {
            "bin_start": 27.997061199999997,
            "bin_end": 34.6158765,
            "count": 0
           },
           {
            "bin_start": 34.6158765,
            "bin_end": 41.23469179999999,
            "count": 0
           },
           {
            "bin_start": 41.23469179999999,
            "bin_end": 47.853507099999995,
            "count": 0
           },
           {
            "bin_start": 47.853507099999995,
            "bin_end": 54.472322399999996,
            "count": 0
           },
           {
            "bin_start": 54.472322399999996,
            "bin_end": 61.0911377,
            "count": 0
           },
           {
            "bin_start": 61.0911377,
            "bin_end": 67.709953,
            "count": 1
           }
          ]
         }
        },
        {
         "name": "Confirmed",
         "dtype": "int64",
         "stats": {
          "unique_count": 5,
          "nan_count": 0,
          "min": "7983",
          "max": "99311",
          "histogram": [
           {
            "bin_start": 7983,
            "bin_end": 17115.8,
            "count": 1
           },
           {
            "bin_start": 17115.8,
            "bin_end": 26248.6,
            "count": 1
           },
           {
            "bin_start": 26248.6,
            "bin_end": 35381.399999999994,
            "count": 0
           },
           {
            "bin_start": 35381.399999999994,
            "bin_end": 44514.2,
            "count": 0
           },
           {
            "bin_start": 44514.2,
            "bin_end": 53647,
            "count": 1
           },
           {
            "bin_start": 53647,
            "bin_end": 62779.799999999996,
            "count": 1
           },
           {
            "bin_start": 62779.799999999996,
            "bin_end": 71912.59999999999,
            "count": 0
           },
           {
            "bin_start": 71912.59999999999,
            "bin_end": 81045.4,
            "count": 0
           },
           {
            "bin_start": 81045.4,
            "bin_end": 90178.2,
            "count": 0
           },
           {
            "bin_start": 90178.2,
            "bin_end": 99311,
            "count": 1
           }
          ]
         }
        },
        {
         "name": "Deaths",
         "dtype": "int64",
         "stats": {
          "unique_count": 5,
          "nan_count": 0,
          "min": "84",
          "max": "2751",
          "histogram": [
           {
            "bin_start": 84,
            "bin_end": 350.7,
            "count": 1
           },
           {
            "bin_start": 350.7,
            "bin_end": 617.4,
            "count": 1
           },
           {
            "bin_start": 617.4,
            "bin_end": 884.0999999999999,
            "count": 0
           },
           {
            "bin_start": 884.0999999999999,
            "bin_end": 1150.8,
            "count": 0
           },
           {
            "bin_start": 1150.8,
            "bin_end": 1417.5,
            "count": 1
           },
           {
            "bin_start": 1417.5,
            "bin_end": 1684.1999999999998,
            "count": 0
           },
           {
            "bin_start": 1684.1999999999998,
            "bin_end": 1950.8999999999999,
            "count": 0
           },
           {
            "bin_start": 1950.8999999999999,
            "bin_end": 2217.6,
            "count": 1
           },
           {
            "bin_start": 2217.6,
            "bin_end": 2484.2999999999997,
            "count": 0
           },
           {
            "bin_start": 2484.2999999999997,
            "bin_end": 2751,
            "count": 1
           }
          ]
         }
        },
        {
         "name": "Recovered",
         "dtype": "int64",
         "stats": {
          "unique_count": 5,
          "nan_count": 0,
          "min": "7384",
          "max": "66855",
          "histogram": [
           {
            "bin_start": 7384,
            "bin_end": 13331.1,
            "count": 2
           },
           {
            "bin_start": 13331.1,
            "bin_end": 19278.2,
            "count": 0
           },
           {
            "bin_start": 19278.2,
            "bin_end": 25225.300000000003,
            "count": 0
           },
           {
            "bin_start": 25225.300000000003,
            "bin_end": 31172.4,
            "count": 0
           },
           {
            "bin_start": 31172.4,
            "bin_end": 37119.5,
            "count": 1
           },
           {
            "bin_start": 37119.5,
            "bin_end": 43066.600000000006,
            "count": 1
           },
           {
            "bin_start": 43066.600000000006,
            "bin_end": 49013.700000000004,
            "count": 0
           },
           {
            "bin_start": 49013.700000000004,
            "bin_end": 54960.8,
            "count": 0
           },
           {
            "bin_start": 54960.8,
            "bin_end": 60907.9,
            "count": 0
           },
           {
            "bin_start": 60907.9,
            "bin_end": 66855,
            "count": 1
           }
          ]
         }
        },
        {
         "name": "Active",
         "dtype": "float64",
         "stats": {
          "unique_count": 5,
          "nan_count": 0,
          "min": "515.0",
          "max": "29705.0",
          "histogram": [
           {
            "bin_start": 515,
            "bin_end": 3434,
            "count": 1
           },
           {
            "bin_start": 3434,
            "bin_end": 6353,
            "count": 1
           },
           {
            "bin_start": 6353,
            "bin_end": 9272,
            "count": 1
           },
           {
            "bin_start": 9272,
            "bin_end": 12191,
            "count": 0
           },
           {
            "bin_start": 12191,
            "bin_end": 15110,
            "count": 0
           },
           {
            "bin_start": 15110,
            "bin_end": 18029,
            "count": 0
           },
           {
            "bin_start": 18029,
            "bin_end": 20948,
            "count": 0
           },
           {
            "bin_start": 20948,
            "bin_end": 23867,
            "count": 1
           },
           {
            "bin_start": 23867,
            "bin_end": 26786,
            "count": 0
           },
           {
            "bin_start": 26786,
            "bin_end": 29705,
            "count": 1
           }
          ]
         }
        },
        {
         "name": "Combined_Key",
         "dtype": "object",
         "stats": {
          "unique_count": 5,
          "nan_count": 0,
          "categories": [
           {
            "name": "Afghanistan",
            "count": 1
           },
           {
            "name": "Albania",
            "count": 1
           },
           {
            "name": "3 others",
            "count": 3
           }
          ]
         }
        },
        {
         "name": "Incident_Rate",
         "dtype": "float64",
         "stats": {
          "unique_count": 5,
          "nan_count": 0,
          "min": "53.04222554261408",
          "max": "10331.97437390798",
          "histogram": [
           {
            "bin_start": 53.04222554261408,
            "bin_end": 1080.9354403791506,
            "count": 3
           },
           {
            "bin_start": 1080.9354403791506,
            "bin_end": 2108.8286552156874,
            "count": 1
           },
           {
            "bin_start": 2108.8286552156874,
            "bin_end": 3136.721870052224,
            "count": 0
           },
           {
            "bin_start": 3136.721870052224,
            "bin_end": 4164.61508488876,
            "count": 0
           },
           {
            "bin_start": 4164.61508488876,
            "bin_end": 5192.508299725297,
            "count": 0
           },
           {
            "bin_start": 5192.508299725297,
            "bin_end": 6220.401514561833,
            "count": 0
           },
           {
            "bin_start": 6220.401514561833,
            "bin_end": 7248.29472939837,
            "count": 0
           },
           {
            "bin_start": 7248.29472939837,
            "bin_end": 8276.187944234907,
            "count": 0
           },
           {
            "bin_start": 8276.187944234907,
            "bin_end": 9304.081159071444,
            "count": 0
           },
           {
            "bin_start": 9304.081159071444,
            "bin_end": 10331.97437390798,
            "count": 1
           }
          ]
         }
        },
        {
         "name": "Case_Fatality_Ratio",
         "dtype": "float64",
         "stats": {
          "unique_count": 5,
          "nan_count": 0,
          "min": "1.0522360015031942",
          "max": "4.242777939889116",
          "histogram": [
           {
            "bin_start": 1.0522360015031942,
            "bin_end": 1.3712901953417864,
            "count": 1
           },
           {
            "bin_start": 1.3712901953417864,
            "bin_end": 1.6903443891803787,
            "count": 0
           },
           {
            "bin_start": 1.6903443891803787,
            "bin_end": 2.009398583018971,
            "count": 0
           },
           {
            "bin_start": 2.009398583018971,
            "bin_end": 2.3284527768575627,
            "count": 2
           },
           {
            "bin_start": 2.3284527768575627,
            "bin_end": 2.6475069706961554,
            "count": 0
           },
           {
            "bin_start": 2.6475069706961554,
            "bin_end": 2.966561164534747,
            "count": 1
           },
           {
            "bin_start": 2.966561164534747,
            "bin_end": 3.2856153583733394,
            "count": 0
           },
           {
            "bin_start": 3.2856153583733394,
            "bin_end": 3.6046695522119316,
            "count": 0
           },
           {
            "bin_start": 3.6046695522119316,
            "bin_end": 3.923723746050524,
            "count": 0
           },
           {
            "bin_start": 3.923723746050524,
            "bin_end": 4.242777939889116,
            "count": 1
           }
          ]
         }
        },
        {
         "name": "_deepnote_index_column",
         "dtype": "int64"
        }
       ],
       "rows_top": [
        {
         "FIPS": "nan",
         "Admin2": "nan",
         "Province_State": "nan",
         "Country_Region": "Afghanistan",
         "Last_Update": "2020-12-31 05:22:49",
         "Lat": 33.93911,
         "Long_": 67.709953,
         "Confirmed": 51405,
         "Deaths": 2181,
         "Recovered": 41612,
         "Active": 7612,
         "Combined_Key": "Afghanistan",
         "Incident_Rate": 132.05032292539772,
         "Case_Fatality_Ratio": 4.242777939889116,
         "_deepnote_index_column": 0
        },
        {
         "FIPS": "nan",
         "Admin2": "nan",
         "Province_State": "nan",
         "Country_Region": "Albania",
         "Last_Update": "2020-12-31 05:22:49",
         "Lat": 41.1533,
         "Long_": 20.1683,
         "Confirmed": 57727,
         "Deaths": 1174,
         "Recovered": 33185,
         "Active": 23368,
         "Combined_Key": "Albania",
         "Incident_Rate": 2005.9420390576136,
         "Case_Fatality_Ratio": 2.033710395482184,
         "_deepnote_index_column": 1
        },
        {
         "FIPS": "nan",
         "Admin2": "nan",
         "Province_State": "nan",
         "Country_Region": "Algeria",
         "Last_Update": "2020-12-31 05:22:49",
         "Lat": 28.0339,
         "Long_": 1.6596,
         "Confirmed": 99311,
         "Deaths": 2751,
         "Recovered": 66855,
         "Active": 29705,
         "Combined_Key": "Algeria",
         "Incident_Rate": 226.47351854321917,
         "Case_Fatality_Ratio": 2.770085891794464,
         "_deepnote_index_column": 2
        },
        {
         "FIPS": "nan",
         "Admin2": "nan",
         "Province_State": "nan",
         "Country_Region": "Andorra",
         "Last_Update": "2020-12-31 05:22:49",
         "Lat": 42.5063,
         "Long_": 1.5218,
         "Confirmed": 7983,
         "Deaths": 84,
         "Recovered": 7384,
         "Active": 515,
         "Combined_Key": "Andorra",
         "Incident_Rate": 10331.97437390798,
         "Case_Fatality_Ratio": 1.0522360015031942,
         "_deepnote_index_column": 3
        },
        {
         "FIPS": "nan",
         "Admin2": "nan",
         "Province_State": "nan",
         "Country_Region": "Angola",
         "Last_Update": "2020-12-31 05:22:49",
         "Lat": -11.2027,
         "Long_": 17.8739,
         "Confirmed": 17433,
         "Deaths": 405,
         "Recovered": 10859,
         "Active": 6169,
         "Combined_Key": "Angola",
         "Incident_Rate": 53.04222554261408,
         "Case_Fatality_Ratio": 2.323180175529169,
         "_deepnote_index_column": 4
        }
       ],
       "rows_bottom": null
      },
      "text/plain": "   FIPS Admin2 Province_State Country_Region          Last_Update       Lat  \\\n0   NaN    NaN            NaN    Afghanistan  2020-12-31 05:22:49  33.93911   \n1   NaN    NaN            NaN        Albania  2020-12-31 05:22:49  41.15330   \n2   NaN    NaN            NaN        Algeria  2020-12-31 05:22:49  28.03390   \n3   NaN    NaN            NaN        Andorra  2020-12-31 05:22:49  42.50630   \n4   NaN    NaN            NaN         Angola  2020-12-31 05:22:49 -11.20270   \n\n       Long_  Confirmed  Deaths  Recovered   Active Combined_Key  \\\n0  67.709953      51405    2181      41612   7612.0  Afghanistan   \n1  20.168300      57727    1174      33185  23368.0      Albania   \n2   1.659600      99311    2751      66855  29705.0      Algeria   \n3   1.521800       7983      84       7384    515.0      Andorra   \n4  17.873900      17433     405      10859   6169.0       Angola   \n\n   Incident_Rate  Case_Fatality_Ratio  \n0     132.050323             4.242778  \n1    2005.942039             2.033710  \n2     226.473519             2.770086  \n3   10331.974374             1.052236  \n4      53.042226             2.323180  ",
      "text/html": "<div>\n<style scoped>\n    .dataframe tbody tr th:only-of-type {\n        vertical-align: middle;\n    }\n\n    .dataframe tbody tr th {\n        vertical-align: top;\n    }\n\n    .dataframe thead th {\n        text-align: right;\n    }\n</style>\n<table border=\"1\" class=\"dataframe\">\n  <thead>\n    <tr style=\"text-align: right;\">\n      <th></th>\n      <th>FIPS</th>\n      <th>Admin2</th>\n      <th>Province_State</th>\n      <th>Country_Region</th>\n      <th>Last_Update</th>\n      <th>Lat</th>\n      <th>Long_</th>\n      <th>Confirmed</th>\n      <th>Deaths</th>\n      <th>Recovered</th>\n      <th>Active</th>\n      <th>Combined_Key</th>\n      <th>Incident_Rate</th>\n      <th>Case_Fatality_Ratio</th>\n    </tr>\n  </thead>\n  <tbody>\n    <tr>\n      <th>0</th>\n      <td>NaN</td>\n      <td>NaN</td>\n      <td>NaN</td>\n      <td>Afghanistan</td>\n      <td>2020-12-31 05:22:49</td>\n      <td>33.93911</td>\n      <td>67.709953</td>\n      <td>51405</td>\n      <td>2181</td>\n      <td>41612</td>\n      <td>7612.0</td>\n      <td>Afghanistan</td>\n      <td>132.050323</td>\n      <td>4.242778</td>\n    </tr>\n    <tr>\n      <th>1</th>\n      <td>NaN</td>\n      <td>NaN</td>\n      <td>NaN</td>\n      <td>Albania</td>\n      <td>2020-12-31 05:22:49</td>\n      <td>41.15330</td>\n      <td>20.168300</td>\n      <td>57727</td>\n      <td>1174</td>\n      <td>33185</td>\n      <td>23368.0</td>\n      <td>Albania</td>\n      <td>2005.942039</td>\n      <td>2.033710</td>\n    </tr>\n    <tr>\n      <th>2</th>\n      <td>NaN</td>\n      <td>NaN</td>\n      <td>NaN</td>\n      <td>Algeria</td>\n      <td>2020-12-31 05:22:49</td>\n      <td>28.03390</td>\n      <td>1.659600</td>\n      <td>99311</td>\n      <td>2751</td>\n      <td>66855</td>\n      <td>29705.0</td>\n      <td>Algeria</td>\n      <td>226.473519</td>\n      <td>2.770086</td>\n    </tr>\n    <tr>\n      <th>3</th>\n      <td>NaN</td>\n      <td>NaN</td>\n      <td>NaN</td>\n      <td>Andorra</td>\n      <td>2020-12-31 05:22:49</td>\n      <td>42.50630</td>\n      <td>1.521800</td>\n      <td>7983</td>\n      <td>84</td>\n      <td>7384</td>\n      <td>515.0</td>\n      <td>Andorra</td>\n      <td>10331.974374</td>\n      <td>1.052236</td>\n    </tr>\n    <tr>\n      <th>4</th>\n      <td>NaN</td>\n      <td>NaN</td>\n      <td>NaN</td>\n      <td>Angola</td>\n      <td>2020-12-31 05:22:49</td>\n      <td>-11.20270</td>\n      <td>17.873900</td>\n      <td>17433</td>\n      <td>405</td>\n      <td>10859</td>\n      <td>6169.0</td>\n      <td>Angola</td>\n      <td>53.042226</td>\n      <td>2.323180</td>\n    </tr>\n  </tbody>\n</table>\n</div>"
     },
     "metadata": {}
    }
   ],
   "execution_count": 7
  },
  {
   "cell_type": "code",
   "source": "second_csv.head()",
   "metadata": {
    "tags": [],
    "cell_id": "00007-bc8281a4-88cc-4f8a-b3c6-31bdcad5c77a",
    "deepnote_to_be_reexecuted": false,
    "source_hash": "84fa0ac0",
    "execution_start": 1621605612458,
    "execution_millis": 207,
    "deepnote_cell_type": "code"
   },
   "outputs": [
    {
     "output_type": "execute_result",
     "execution_count": 8,
     "data": {
      "application/vnd.deepnote.dataframe.v2+json": {
       "row_count": 5,
       "column_count": 14,
       "columns": [
        {
         "name": "FIPS",
         "dtype": "float64",
         "stats": {
          "unique_count": 0,
          "nan_count": 5,
          "min": null,
          "max": null,
          "histogram": [
           {
            "bin_start": 0,
            "bin_end": 0.1,
            "count": 0
           },
           {
            "bin_start": 0.1,
            "bin_end": 0.2,
            "count": 0
           },
           {
            "bin_start": 0.2,
            "bin_end": 0.30000000000000004,
            "count": 0
           },
           {
            "bin_start": 0.30000000000000004,
            "bin_end": 0.4,
            "count": 0
           },
           {
            "bin_start": 0.4,
            "bin_end": 0.5,
            "count": 0
           },
           {
            "bin_start": 0.5,
            "bin_end": 0.6000000000000001,
            "count": 0
           },
           {
            "bin_start": 0.6000000000000001,
            "bin_end": 0.7000000000000001,
            "count": 0
           },
           {
            "bin_start": 0.7000000000000001,
            "bin_end": 0.8,
            "count": 0
           },
           {
            "bin_start": 0.8,
            "bin_end": 0.9,
            "count": 0
           },
           {
            "bin_start": 0.9,
            "bin_end": 1,
            "count": 0
           }
          ]
         }
        },
        {
         "name": "Admin2",
         "dtype": "object",
         "stats": {
          "unique_count": 0,
          "nan_count": 5,
          "categories": [
           {
            "name": "Missing",
            "count": 5
           }
          ]
         }
        },
        {
         "name": "Province_State",
         "dtype": "object",
         "stats": {
          "unique_count": 0,
          "nan_count": 5,
          "categories": [
           {
            "name": "Missing",
            "count": 5
           }
          ]
         }
        },
        {
         "name": "Country_Region",
         "dtype": "object",
         "stats": {
          "unique_count": 5,
          "nan_count": 0,
          "categories": [
           {
            "name": "Afghanistan",
            "count": 1
           },
           {
            "name": "Albania",
            "count": 1
           },
           {
            "name": "3 others",
            "count": 3
           }
          ]
         }
        },
        {
         "name": "Last_Update",
         "dtype": "object",
         "stats": {
          "unique_count": 1,
          "nan_count": 0,
          "categories": [
           {
            "name": "2021-01-01 05:23:07",
            "count": 5
           }
          ]
         }
        },
        {
         "name": "Lat",
         "dtype": "float64",
         "stats": {
          "unique_count": 5,
          "nan_count": 0,
          "min": "-11.2027",
          "max": "42.5063",
          "histogram": [
           {
            "bin_start": -11.2027,
            "bin_end": -5.831799999999999,
            "count": 1
           },
           {
            "bin_start": -5.831799999999999,
            "bin_end": -0.46089999999999876,
            "count": 0
           },
           {
            "bin_start": -0.46089999999999876,
            "bin_end": 4.910000000000004,
            "count": 0
           },
           {
            "bin_start": 4.910000000000004,
            "bin_end": 10.280900000000003,
            "count": 0
           },
           {
            "bin_start": 10.280900000000003,
            "bin_end": 15.651800000000001,
            "count": 0
           },
           {
            "bin_start": 15.651800000000001,
            "bin_end": 21.022700000000007,
            "count": 0
           },
           {
            "bin_start": 21.022700000000007,
            "bin_end": 26.393600000000006,
            "count": 0
           },
           {
            "bin_start": 26.393600000000006,
            "bin_end": 31.764500000000005,
            "count": 1
           },
           {
            "bin_start": 31.764500000000005,
            "bin_end": 37.135400000000004,
            "count": 1
           },
           {
            "bin_start": 37.135400000000004,
            "bin_end": 42.5063,
            "count": 2
           }
          ]
         }
        },
        {
         "name": "Long_",
         "dtype": "float64",
         "stats": {
          "unique_count": 5,
          "nan_count": 0,
          "min": "1.5218",
          "max": "67.709953",
          "histogram": [
           {
            "bin_start": 1.5218,
            "bin_end": 8.1406153,
            "count": 2
           },
           {
            "bin_start": 8.1406153,
            "bin_end": 14.7594306,
            "count": 0
           },
           {
            "bin_start": 14.7594306,
            "bin_end": 21.378245899999996,
            "count": 2
           },
           {
            "bin_start": 21.378245899999996,
            "bin_end": 27.997061199999997,
            "count": 0
           },
           {
            "bin_start": 27.997061199999997,
            "bin_end": 34.6158765,
            "count": 0
           },
           {
            "bin_start": 34.6158765,
            "bin_end": 41.23469179999999,
            "count": 0
           },
           {
            "bin_start": 41.23469179999999,
            "bin_end": 47.853507099999995,
            "count": 0
           },
           {
            "bin_start": 47.853507099999995,
            "bin_end": 54.472322399999996,
            "count": 0
           },
           {
            "bin_start": 54.472322399999996,
            "bin_end": 61.0911377,
            "count": 0
           },
           {
            "bin_start": 61.0911377,
            "bin_end": 67.709953,
            "count": 1
           }
          ]
         }
        },
        {
         "name": "Confirmed",
         "dtype": "int64",
         "stats": {
          "unique_count": 5,
          "nan_count": 0,
          "min": "8049",
          "max": "99610",
          "histogram": [
           {
            "bin_start": 8049,
            "bin_end": 17205.1,
            "count": 1
           },
           {
            "bin_start": 17205.1,
            "bin_end": 26361.2,
            "count": 1
           },
           {
            "bin_start": 26361.2,
            "bin_end": 35517.3,
            "count": 0
           },
           {
            "bin_start": 35517.3,
            "bin_end": 44673.4,
            "count": 0
           },
           {
            "bin_start": 44673.4,
            "bin_end": 53829.5,
            "count": 1
           },
           {
            "bin_start": 53829.5,
            "bin_end": 62985.600000000006,
            "count": 1
           },
           {
            "bin_start": 62985.600000000006,
            "bin_end": 72141.70000000001,
            "count": 0
           },
           {
            "bin_start": 72141.70000000001,
            "bin_end": 81297.8,
            "count": 0
           },
           {
            "bin_start": 81297.8,
            "bin_end": 90453.90000000001,
            "count": 0
           },
           {
            "bin_start": 90453.90000000001,
            "bin_end": 99610,
            "count": 1
           }
          ]
         }
        },
        {
         "name": "Deaths",
         "dtype": "int64",
         "stats": {
          "unique_count": 5,
          "nan_count": 0,
          "min": "84",
          "max": "2756",
          "histogram": [
           {
            "bin_start": 84,
            "bin_end": 351.2,
            "count": 1
           },
           {
            "bin_start": 351.2,
            "bin_end": 618.4,
            "count": 1
           },
           {
            "bin_start": 618.4,
            "bin_end": 885.5999999999999,
            "count": 0
           },
           {
            "bin_start": 885.5999999999999,
            "bin_end": 1152.8,
            "count": 0
           },
           {
            "bin_start": 1152.8,
            "bin_end": 1420,
            "count": 1
           },
           {
            "bin_start": 1420,
            "bin_end": 1687.1999999999998,
            "count": 0
           },
           {
            "bin_start": 1687.1999999999998,
            "bin_end": 1954.3999999999999,
            "count": 0
           },
           {
            "bin_start": 1954.3999999999999,
            "bin_end": 2221.6,
            "count": 1
           },
           {
            "bin_start": 2221.6,
            "bin_end": 2488.7999999999997,
            "count": 0
           },
           {
            "bin_start": 2488.7999999999997,
            "bin_end": 2756,
            "count": 1
           }
          ]
         }
        },
        {
         "name": "Recovered",
         "dtype": "int64",
         "stats": {
          "unique_count": 5,
          "nan_count": 0,
          "min": "7432",
          "max": "67127",
          "histogram": [
           {
            "bin_start": 7432,
            "bin_end": 13401.5,
            "count": 2
           },
           {
            "bin_start": 13401.5,
            "bin_end": 19371,
            "count": 0
           },
           {
            "bin_start": 19371,
            "bin_end": 25340.5,
            "count": 0
           },
           {
            "bin_start": 25340.5,
            "bin_end": 31310,
            "count": 0
           },
           {
            "bin_start": 31310,
            "bin_end": 37279.5,
            "count": 1
           },
           {
            "bin_start": 37279.5,
            "bin_end": 43249,
            "count": 1
           },
           {
            "bin_start": 43249,
            "bin_end": 49218.5,
            "count": 0
           },
           {
            "bin_start": 49218.5,
            "bin_end": 55188,
            "count": 0
           },
           {
            "bin_start": 55188,
            "bin_end": 61157.5,
            "count": 0
           },
           {
            "bin_start": 61157.5,
            "bin_end": 67127,
            "count": 1
           }
          ]
         }
        },
        {
         "name": "Active",
         "dtype": "float64",
         "stats": {
          "unique_count": 5,
          "nan_count": 0,
          "min": "0.0",
          "max": "29727.0",
          "histogram": [
           {
            "bin_start": 0,
            "bin_end": 2972.7,
            "count": 2
           },
           {
            "bin_start": 2972.7,
            "bin_end": 5945.4,
            "count": 0
           },
           {
            "bin_start": 5945.4,
            "bin_end": 8918.099999999999,
            "count": 1
           },
           {
            "bin_start": 8918.099999999999,
            "bin_end": 11890.8,
            "count": 0
           },
           {
            "bin_start": 11890.8,
            "bin_end": 14863.5,
            "count": 0
           },
           {
            "bin_start": 14863.5,
            "bin_end": 17836.199999999997,
            "count": 0
           },
           {
            "bin_start": 17836.199999999997,
            "bin_end": 20808.899999999998,
            "count": 0
           },
           {
            "bin_start": 20808.899999999998,
            "bin_end": 23781.6,
            "count": 1
           },
           {
            "bin_start": 23781.6,
            "bin_end": 26754.3,
            "count": 0
           },
           {
            "bin_start": 26754.3,
            "bin_end": 29727,
            "count": 1
           }
          ]
         }
        },
        {
         "name": "Combined_Key",
         "dtype": "object",
         "stats": {
          "unique_count": 5,
          "nan_count": 0,
          "categories": [
           {
            "name": "Afghanistan",
            "count": 1
           },
           {
            "name": "Albania",
            "count": 1
           },
           {
            "name": "3 others",
            "count": 3
           }
          ]
         }
        },
        {
         "name": "Incident_Rate",
         "dtype": "float64",
         "stats": {
          "unique_count": 5,
          "nan_count": 0,
          "min": "0.0",
          "max": "10417.394680644536",
          "histogram": [
           {
            "bin_start": 0,
            "bin_end": 1041.7394680644536,
            "count": 3
           },
           {
            "bin_start": 1041.7394680644536,
            "bin_end": 2083.478936128907,
            "count": 1
           },
           {
            "bin_start": 2083.478936128907,
            "bin_end": 3125.2184041933606,
            "count": 0
           },
           {
            "bin_start": 3125.2184041933606,
            "bin_end": 4166.957872257814,
            "count": 0
           },
           {
            "bin_start": 4166.957872257814,
            "bin_end": 5208.697340322268,
            "count": 0
           },
           {
            "bin_start": 5208.697340322268,
            "bin_end": 6250.436808386721,
            "count": 0
           },
           {
            "bin_start": 6250.436808386721,
            "bin_end": 7292.176276451175,
            "count": 0
           },
           {
            "bin_start": 7292.176276451175,
            "bin_end": 8333.915744515629,
            "count": 0
           },
           {
            "bin_start": 8333.915744515629,
            "bin_end": 9375.655212580083,
            "count": 0
           },
           {
            "bin_start": 9375.655212580083,
            "bin_end": 10417.394680644536,
            "count": 1
           }
          ]
         }
        },
        {
         "name": "Case_Fatality_Ratio",
         "dtype": "float64",
         "stats": {
          "unique_count": 5,
          "nan_count": 0,
          "min": "1.0436079016026836",
          "max": "4.2522221790940495",
          "histogram": [
           {
            "bin_start": 1.0436079016026836,
            "bin_end": 1.3644693293518202,
            "count": 1
           },
           {
            "bin_start": 1.3644693293518202,
            "bin_end": 1.6853307571009566,
            "count": 0
           },
           {
            "bin_start": 1.6853307571009566,
            "bin_end": 2.006192184850093,
            "count": 0
           },
           {
            "bin_start": 2.006192184850093,
            "bin_end": 2.32705361259923,
            "count": 2
           },
           {
            "bin_start": 2.32705361259923,
            "bin_end": 2.6479150403483667,
            "count": 0
           },
           {
            "bin_start": 2.6479150403483667,
            "bin_end": 2.968776468097503,
            "count": 1
           },
           {
            "bin_start": 2.968776468097503,
            "bin_end": 3.2896378958466395,
            "count": 0
           },
           {
            "bin_start": 3.2896378958466395,
            "bin_end": 3.610499323595776,
            "count": 0
           },
           {
            "bin_start": 3.610499323595776,
            "bin_end": 3.9313607513449123,
            "count": 0
           },
           {
            "bin_start": 3.9313607513449123,
            "bin_end": 4.2522221790940495,
            "count": 1
           }
          ]
         }
        },
        {
         "name": "_deepnote_index_column",
         "dtype": "int64"
        }
       ],
       "rows_top": [
        {
         "FIPS": "nan",
         "Admin2": "nan",
         "Province_State": "nan",
         "Country_Region": "Afghanistan",
         "Last_Update": "2021-01-01 05:23:07",
         "Lat": 33.93911,
         "Long_": 67.709953,
         "Confirmed": 51526,
         "Deaths": 2191,
         "Recovered": 41727,
         "Active": 0,
         "Combined_Key": "Afghanistan",
         "Incident_Rate": 0,
         "Case_Fatality_Ratio": 4.2522221790940495,
         "_deepnote_index_column": 0
        },
        {
         "FIPS": "nan",
         "Admin2": "nan",
         "Province_State": "nan",
         "Country_Region": "Albania",
         "Last_Update": "2021-01-01 05:23:07",
         "Lat": 41.1533,
         "Long_": 20.1683,
         "Confirmed": 58316,
         "Deaths": 1181,
         "Recovered": 33634,
         "Active": 23501,
         "Combined_Key": "Albania",
         "Incident_Rate": 2026.4090624782816,
         "Case_Fatality_Ratio": 2.025173194320598,
         "_deepnote_index_column": 1
        },
        {
         "FIPS": "nan",
         "Admin2": "nan",
         "Province_State": "nan",
         "Country_Region": "Algeria",
         "Last_Update": "2021-01-01 05:23:07",
         "Lat": 28.0339,
         "Long_": 1.6596,
         "Confirmed": 99610,
         "Deaths": 2756,
         "Recovered": 67127,
         "Active": 29727,
         "Combined_Key": "Algeria",
         "Incident_Rate": 227.1553723362977,
         "Case_Fatality_Ratio": 2.766790482883245,
         "_deepnote_index_column": 2
        },
        {
         "FIPS": "nan",
         "Admin2": "nan",
         "Province_State": "nan",
         "Country_Region": "Andorra",
         "Last_Update": "2021-01-01 05:23:07",
         "Lat": 42.5063,
         "Long_": 1.5218,
         "Confirmed": 8049,
         "Deaths": 84,
         "Recovered": 7432,
         "Active": 533,
         "Combined_Key": "Andorra",
         "Incident_Rate": 10417.394680644536,
         "Case_Fatality_Ratio": 1.0436079016026836,
         "_deepnote_index_column": 3
        },
        {
         "FIPS": "nan",
         "Admin2": "nan",
         "Province_State": "nan",
         "Country_Region": "Angola",
         "Last_Update": "2021-01-01 05:23:07",
         "Lat": -11.2027,
         "Long_": 17.8739,
         "Confirmed": 17553,
         "Deaths": 405,
         "Recovered": 11044,
         "Active": 6104,
         "Combined_Key": "Angola",
         "Incident_Rate": 53.40734153327053,
         "Case_Fatality_Ratio": 2.3072978977952485,
         "_deepnote_index_column": 4
        }
       ],
       "rows_bottom": null
      },
      "text/plain": "   FIPS Admin2 Province_State Country_Region          Last_Update       Lat  \\\n0   NaN    NaN            NaN    Afghanistan  2021-01-01 05:23:07  33.93911   \n1   NaN    NaN            NaN        Albania  2021-01-01 05:23:07  41.15330   \n2   NaN    NaN            NaN        Algeria  2021-01-01 05:23:07  28.03390   \n3   NaN    NaN            NaN        Andorra  2021-01-01 05:23:07  42.50630   \n4   NaN    NaN            NaN         Angola  2021-01-01 05:23:07 -11.20270   \n\n       Long_  Confirmed  Deaths  Recovered   Active Combined_Key  \\\n0  67.709953      51526    2191      41727      0.0  Afghanistan   \n1  20.168300      58316    1181      33634  23501.0      Albania   \n2   1.659600      99610    2756      67127  29727.0      Algeria   \n3   1.521800       8049      84       7432    533.0      Andorra   \n4  17.873900      17553     405      11044   6104.0       Angola   \n\n   Incident_Rate  Case_Fatality_Ratio  \n0       0.000000             4.252222  \n1    2026.409062             2.025173  \n2     227.155372             2.766790  \n3   10417.394681             1.043608  \n4      53.407342             2.307298  ",
      "text/html": "<div>\n<style scoped>\n    .dataframe tbody tr th:only-of-type {\n        vertical-align: middle;\n    }\n\n    .dataframe tbody tr th {\n        vertical-align: top;\n    }\n\n    .dataframe thead th {\n        text-align: right;\n    }\n</style>\n<table border=\"1\" class=\"dataframe\">\n  <thead>\n    <tr style=\"text-align: right;\">\n      <th></th>\n      <th>FIPS</th>\n      <th>Admin2</th>\n      <th>Province_State</th>\n      <th>Country_Region</th>\n      <th>Last_Update</th>\n      <th>Lat</th>\n      <th>Long_</th>\n      <th>Confirmed</th>\n      <th>Deaths</th>\n      <th>Recovered</th>\n      <th>Active</th>\n      <th>Combined_Key</th>\n      <th>Incident_Rate</th>\n      <th>Case_Fatality_Ratio</th>\n    </tr>\n  </thead>\n  <tbody>\n    <tr>\n      <th>0</th>\n      <td>NaN</td>\n      <td>NaN</td>\n      <td>NaN</td>\n      <td>Afghanistan</td>\n      <td>2021-01-01 05:23:07</td>\n      <td>33.93911</td>\n      <td>67.709953</td>\n      <td>51526</td>\n      <td>2191</td>\n      <td>41727</td>\n      <td>0.0</td>\n      <td>Afghanistan</td>\n      <td>0.000000</td>\n      <td>4.252222</td>\n    </tr>\n    <tr>\n      <th>1</th>\n      <td>NaN</td>\n      <td>NaN</td>\n      <td>NaN</td>\n      <td>Albania</td>\n      <td>2021-01-01 05:23:07</td>\n      <td>41.15330</td>\n      <td>20.168300</td>\n      <td>58316</td>\n      <td>1181</td>\n      <td>33634</td>\n      <td>23501.0</td>\n      <td>Albania</td>\n      <td>2026.409062</td>\n      <td>2.025173</td>\n    </tr>\n    <tr>\n      <th>2</th>\n      <td>NaN</td>\n      <td>NaN</td>\n      <td>NaN</td>\n      <td>Algeria</td>\n      <td>2021-01-01 05:23:07</td>\n      <td>28.03390</td>\n      <td>1.659600</td>\n      <td>99610</td>\n      <td>2756</td>\n      <td>67127</td>\n      <td>29727.0</td>\n      <td>Algeria</td>\n      <td>227.155372</td>\n      <td>2.766790</td>\n    </tr>\n    <tr>\n      <th>3</th>\n      <td>NaN</td>\n      <td>NaN</td>\n      <td>NaN</td>\n      <td>Andorra</td>\n      <td>2021-01-01 05:23:07</td>\n      <td>42.50630</td>\n      <td>1.521800</td>\n      <td>8049</td>\n      <td>84</td>\n      <td>7432</td>\n      <td>533.0</td>\n      <td>Andorra</td>\n      <td>10417.394681</td>\n      <td>1.043608</td>\n    </tr>\n    <tr>\n      <th>4</th>\n      <td>NaN</td>\n      <td>NaN</td>\n      <td>NaN</td>\n      <td>Angola</td>\n      <td>2021-01-01 05:23:07</td>\n      <td>-11.20270</td>\n      <td>17.873900</td>\n      <td>17553</td>\n      <td>405</td>\n      <td>11044</td>\n      <td>6104.0</td>\n      <td>Angola</td>\n      <td>53.407342</td>\n      <td>2.307298</td>\n    </tr>\n  </tbody>\n</table>\n</div>"
     },
     "metadata": {}
    }
   ],
   "execution_count": 8
  },
  {
   "cell_type": "code",
   "source": "msno.bar(first_csv,color=\"dodgerblue\", sort=\"ascending\", figsize=(10,5), fontsize=12)",
   "metadata": {
    "tags": [],
    "cell_id": "00007-649f2aa6-317b-476d-8787-15ae487aa2bb",
    "deepnote_to_be_reexecuted": false,
    "source_hash": "21663f17",
    "execution_start": 1621605612606,
    "execution_millis": 1103,
    "deepnote_cell_type": "code"
   },
   "outputs": [
    {
     "output_type": "execute_result",
     "execution_count": 9,
     "data": {
      "text/plain": "<AxesSubplot:>"
     },
     "metadata": {}
    },
    {
     "data": {
      "text/plain": "<Figure size 720x360 with 3 Axes>",
      "image/png": "[encoded data removed]"
     },
     "metadata": {
      "needs_background": "light",
      "image/png": {
       "width": 636,
       "height": 422
      }
     },
     "output_type": "display_data"
    }
   ],
   "execution_count": 9
  },
  {
   "cell_type": "code",
   "source": "msno.matrix(first_csv)",
   "metadata": {
    "tags": [],
    "cell_id": "00011-bb23e98b-7614-4e75-afad-77c9ce9bcc74",
    "deepnote_to_be_reexecuted": false,
    "source_hash": "3d90b002",
    "execution_start": 1621605736548,
    "execution_millis": 518,
    "deepnote_cell_type": "code"
   },
   "outputs": [
    {
     "output_type": "execute_result",
     "execution_count": 11,
     "data": {
      "text/plain": "<AxesSubplot:>"
     },
     "metadata": {}
    },
    {
     "data": {
      "text/plain": "<Figure size 1800x720 with 2 Axes>",
      "image/png": "[encoded data removed]"
     },
     "metadata": {
      "needs_background": "light",
      "image/png": {
       "width": 1485,
       "height": 697
      }
     },
     "output_type": "display_data"
    }
   ],
   "execution_count": 11
  },
  {
   "cell_type": "code",
   "source": "msno.bar(second_csv,color=\"dodgerblue\", sort=\"ascending\", figsize=(10,5), fontsize=12)",
   "metadata": {
    "tags": [],
    "cell_id": "00009-41ef1521-20a7-43a9-9ce6-a948972737ea",
    "deepnote_to_be_reexecuted": false,
    "source_hash": "ef5e3567",
    "execution_start": 1621605695846,
    "execution_millis": 916,
    "deepnote_cell_type": "code"
   },
   "outputs": [
    {
     "output_type": "execute_result",
     "execution_count": 10,
     "data": {
      "text/plain": "<AxesSubplot:>"
     },
     "metadata": {}
    },
    {
     "data": {
      "text/plain": "<Figure size 720x360 with 3 Axes>",
      "image/png": "[encoded data removed]"
     },
     "metadata": {
      "needs_background": "light",
      "image/png": {
       "width": 636,
       "height": 422
      }
     },
     "output_type": "display_data"
    }
   ],
   "execution_count": 10
  },
  {
   "cell_type": "code",
   "source": "msno.matrix(second_csv)",
   "metadata": {
    "tags": [],
    "cell_id": "00013-9b7c0b51-77f2-47dc-ab51-8ac26449ba96",
    "deepnote_to_be_reexecuted": false,
    "source_hash": "9bbd0d9d",
    "execution_start": 1621605748329,
    "execution_millis": 739,
    "deepnote_cell_type": "code"
   },
   "outputs": [
    {
     "output_type": "execute_result",
     "execution_count": 12,
     "data": {
      "text/plain": "<AxesSubplot:>"
     },
     "metadata": {}
    },
    {
     "data": {
      "text/plain": "<Figure size 1800x720 with 2 Axes>",
      "image/png": "[encoded data removed]"
     },
     "metadata": {
      "needs_background": "light",
      "image/png": {
       "width": 1485,
       "height": 697
      }
     },
     "output_type": "display_data"
    }
   ],
   "execution_count": 12
  },
  {
   "cell_type": "code",
   "source": "first_csv.shape",
   "metadata": {
    "tags": [],
    "cell_id": "00012-8d924b28-2939-4066-8a37-477fd05b1def",
    "deepnote_to_be_reexecuted": false,
    "source_hash": "7a3dd50f",
    "execution_start": 1621605898103,
    "execution_millis": 53,
    "deepnote_cell_type": "code"
   },
   "outputs": [
    {
     "output_type": "execute_result",
     "execution_count": 13,
     "data": {
      "text/plain": "(3980, 14)"
     },
     "metadata": {}
    }
   ],
   "execution_count": 13
  },
  {
   "cell_type": "code",
   "source": "second_csv.shape",
   "metadata": {
    "tags": [],
    "cell_id": "00015-64858615-8543-4cdb-bfbf-4348137e878c",
    "deepnote_to_be_reexecuted": false,
    "source_hash": "4c56e8b5",
    "execution_start": 1621605909348,
    "execution_millis": 276,
    "deepnote_cell_type": "code"
   },
   "outputs": [
    {
     "output_type": "execute_result",
     "execution_count": 14,
     "data": {
      "text/plain": "(3980, 14)"
     },
     "metadata": {}
    }
   ],
   "execution_count": 14
  },
  {
   "cell_type": "markdown",
   "source": "Null values",
   "metadata": {
    "tags": [],
    "cell_id": "00016-8b0b5e2e-b537-4950-bde0-3a818843f356",
    "deepnote_cell_type": "markdown"
   }
  },
  {
   "cell_type": "code",
   "source": "print(first_csv.isnull().sum())",
   "metadata": {
    "tags": [],
    "cell_id": "00016-5c5c005f-778b-40f4-81f9-fe56eaea0c15",
    "deepnote_to_be_reexecuted": false,
    "source_hash": "3f3d2e78",
    "execution_start": 1621606009864,
    "execution_millis": 36,
    "deepnote_cell_type": "code"
   },
   "outputs": [
    {
     "name": "stdout",
     "text": "FIPS                   715\nAdmin2                 710\nProvince_State         170\nCountry_Region           0\nLast_Update              0\nLat                     87\nLong_                   87\nConfirmed                0\nDeaths                   0\nRecovered                0\nActive                   2\nCombined_Key             0\nIncident_Rate           89\nCase_Fatality_Ratio     44\ndtype: int64\n",
     "output_type": "stream"
    }
   ],
   "execution_count": 15
  },
  {
   "cell_type": "code",
   "source": "print(second_csv.isnull().sum())",
   "metadata": {
    "tags": [],
    "cell_id": "00017-5022eff8-76b6-4976-aa16-48fbb33b029a",
    "deepnote_to_be_reexecuted": false,
    "source_hash": "cd6cf0fe",
    "execution_start": 1621606108722,
    "execution_millis": 8,
    "deepnote_cell_type": "code"
   },
   "outputs": [
    {
     "name": "stdout",
     "text": "FIPS                   715\nAdmin2                 710\nProvince_State         170\nCountry_Region           0\nLast_Update              0\nLat                     87\nLong_                   87\nConfirmed                0\nDeaths                   0\nRecovered                0\nActive                   2\nCombined_Key             0\nIncident_Rate           89\nCase_Fatality_Ratio     44\ndtype: int64\n",
     "output_type": "stream"
    }
   ],
   "execution_count": 16
  },
  {
   "cell_type": "code",
   "source": "",
   "metadata": {
    "tags": [],
    "cell_id": "00018-a4528275-740f-48c5-9c71-dd74cb141324",
    "deepnote_cell_type": "code"
   },
   "outputs": [],
   "execution_count": null
  },
  {
   "cell_type": "markdown",
   "source": "<a style='text-decoration:none;line-height:16px;display:flex;color:#5B5B62;padding:10px;justify-content:end;' href='https://deepnote.com?utm_source=created-in-deepnote-cell&projectId=cc76a8cc-d334-4029-81c1-fc0a05653779' target=\"_blank\">\n<img alt='Created in deepnote.com' style='display:inline;max-height:16px;margin:0px;margin-right:7.5px;' src='data:image/svg+xml;base64,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' > </img>\nCreated in <span style='font-weight:600;margin-left:4px;'>Deepnote</span></a>",
   "metadata": {
    "tags": [],
    "created_in_deepnote_cell": true,
    "deepnote_cell_type": "markdown"
   }
  }
 ],
 "nbformat": 4,
 "nbformat_minor": 2,
 "metadata": {
  "orig_nbformat": 2,
  "deepnote": {
   "is_reactive": false
  },
  "deepnote_notebook_id": "18e6c942-452b-433e-93ec-d0dbea326bac",
  "deepnote_execution_queue": []
 }
}